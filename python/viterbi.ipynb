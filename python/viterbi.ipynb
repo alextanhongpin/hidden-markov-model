{
 "cells": [
  {
   "cell_type": "code",
   "execution_count": 3,
   "metadata": {},
   "outputs": [],
   "source": [
    "import numpy as np\n",
    "import pandas as pd\n",
    "import math"
   ]
  },
  {
   "cell_type": "code",
   "execution_count": 33,
   "metadata": {},
   "outputs": [],
   "source": [
    "obs = pd.Series(['normal', 'cold', 'dizzy'])\n",
    "states = pd.Series(['healthy', 'fever'])\n",
    "init_prob = pd.Series({'healthy': 0.6, 'fever': 0.4})\n",
    "\n",
    "tran_prob = pd.DataFrame({\n",
    "  'healthy': {'healthy': 0.7, 'fever': 0.3},\n",
    "  'fever': {'healthy': 0.4, 'fever': 0.6}\n",
    "})\n",
    "\n",
    "emit_prob = pd.DataFrame({\n",
    "  'healthy': {'normal': 0.5, 'cold': 0.4, 'dizzy': 0.1},\n",
    "  'fever': {'normal': 0.1, 'cold': 0.3, 'dizzy': 0.6}\n",
    "})"
   ]
  },
  {
   "cell_type": "code",
   "execution_count": 34,
   "metadata": {},
   "outputs": [
    {
     "data": {
      "text/html": [
       "<div>\n",
       "<style scoped>\n",
       "    .dataframe tbody tr th:only-of-type {\n",
       "        vertical-align: middle;\n",
       "    }\n",
       "\n",
       "    .dataframe tbody tr th {\n",
       "        vertical-align: top;\n",
       "    }\n",
       "\n",
       "    .dataframe thead th {\n",
       "        text-align: right;\n",
       "    }\n",
       "</style>\n",
       "<table border=\"1\" class=\"dataframe\">\n",
       "  <thead>\n",
       "    <tr style=\"text-align: right;\">\n",
       "      <th></th>\n",
       "      <th>healthy</th>\n",
       "      <th>fever</th>\n",
       "    </tr>\n",
       "  </thead>\n",
       "  <tbody>\n",
       "    <tr>\n",
       "      <th>normal</th>\n",
       "      <td>NaN</td>\n",
       "      <td>NaN</td>\n",
       "    </tr>\n",
       "    <tr>\n",
       "      <th>cold</th>\n",
       "      <td>NaN</td>\n",
       "      <td>NaN</td>\n",
       "    </tr>\n",
       "    <tr>\n",
       "      <th>dizzy</th>\n",
       "      <td>NaN</td>\n",
       "      <td>NaN</td>\n",
       "    </tr>\n",
       "  </tbody>\n",
       "</table>\n",
       "</div>"
      ],
      "text/plain": [
       "       healthy fever\n",
       "normal     NaN   NaN\n",
       "cold       NaN   NaN\n",
       "dizzy      NaN   NaN"
      ]
     },
     "execution_count": 34,
     "metadata": {},
     "output_type": "execute_result"
    }
   ],
   "source": [
    "K = len(states)\n",
    "T = len(obs)\n",
    "\n",
    "# Create an empty data frame for the solution\n",
    "t1 = pd.DataFrame(index=obs.values, columns=states.values)\n",
    "t2 = pd.DataFrame(index=obs.values, columns=states.values)\n",
    "t1"
   ]
  },
  {
   "cell_type": "code",
   "execution_count": 35,
   "metadata": {},
   "outputs": [
    {
     "name": "stdout",
     "output_type": "stream",
     "text": [
      "       healthy fever\n",
      "normal     0.3  0.04\n",
      "cold       NaN   NaN\n",
      "dizzy      NaN   NaN\n"
     ]
    },
    {
     "data": {
      "text/html": [
       "<div>\n",
       "<style scoped>\n",
       "    .dataframe tbody tr th:only-of-type {\n",
       "        vertical-align: middle;\n",
       "    }\n",
       "\n",
       "    .dataframe tbody tr th {\n",
       "        vertical-align: top;\n",
       "    }\n",
       "\n",
       "    .dataframe thead th {\n",
       "        text-align: right;\n",
       "    }\n",
       "</style>\n",
       "<table border=\"1\" class=\"dataframe\">\n",
       "  <thead>\n",
       "    <tr style=\"text-align: right;\">\n",
       "      <th></th>\n",
       "      <th>healthy</th>\n",
       "      <th>fever</th>\n",
       "    </tr>\n",
       "  </thead>\n",
       "  <tbody>\n",
       "    <tr>\n",
       "      <th>normal</th>\n",
       "      <td>0</td>\n",
       "      <td>0</td>\n",
       "    </tr>\n",
       "    <tr>\n",
       "      <th>cold</th>\n",
       "      <td>NaN</td>\n",
       "      <td>NaN</td>\n",
       "    </tr>\n",
       "    <tr>\n",
       "      <th>dizzy</th>\n",
       "      <td>NaN</td>\n",
       "      <td>NaN</td>\n",
       "    </tr>\n",
       "  </tbody>\n",
       "</table>\n",
       "</div>"
      ],
      "text/plain": [
       "       healthy fever\n",
       "normal       0     0\n",
       "cold       NaN   NaN\n",
       "dizzy      NaN   NaN"
      ]
     },
     "execution_count": 35,
     "metadata": {},
     "output_type": "execute_result"
    }
   ],
   "source": [
    "\n",
    "# Lazily iterate through panda.Series\n",
    "# for s in states.iteritems():\n",
    "for s in states:\n",
    "    t1[s][0] = init_prob[s] * emit_prob[s][obs[0]]\n",
    "    t2[s][0] = 0\n",
    "print(t1)\n",
    "t2"
   ]
  },
  {
   "cell_type": "code",
   "execution_count": 36,
   "metadata": {},
   "outputs": [
    {
     "name": "stdout",
     "output_type": "stream",
     "text": [
      "        healthy    fever\n",
      "normal      0.3     0.04\n",
      "cold      0.084    0.027\n",
      "dizzy   0.00588  0.01512\n"
     ]
    },
    {
     "data": {
      "text/html": [
       "<div>\n",
       "<style scoped>\n",
       "    .dataframe tbody tr th:only-of-type {\n",
       "        vertical-align: middle;\n",
       "    }\n",
       "\n",
       "    .dataframe tbody tr th {\n",
       "        vertical-align: top;\n",
       "    }\n",
       "\n",
       "    .dataframe thead th {\n",
       "        text-align: right;\n",
       "    }\n",
       "</style>\n",
       "<table border=\"1\" class=\"dataframe\">\n",
       "  <thead>\n",
       "    <tr style=\"text-align: right;\">\n",
       "      <th></th>\n",
       "      <th>healthy</th>\n",
       "      <th>fever</th>\n",
       "    </tr>\n",
       "  </thead>\n",
       "  <tbody>\n",
       "    <tr>\n",
       "      <th>normal</th>\n",
       "      <td>0</td>\n",
       "      <td>0</td>\n",
       "    </tr>\n",
       "    <tr>\n",
       "      <th>cold</th>\n",
       "      <td>healthy</td>\n",
       "      <td>fever</td>\n",
       "    </tr>\n",
       "    <tr>\n",
       "      <th>dizzy</th>\n",
       "      <td>healthy</td>\n",
       "      <td>healthy</td>\n",
       "    </tr>\n",
       "  </tbody>\n",
       "</table>\n",
       "</div>"
      ],
      "text/plain": [
       "        healthy    fever\n",
       "normal        0        0\n",
       "cold    healthy    fever\n",
       "dizzy   healthy  healthy"
      ]
     },
     "execution_count": 36,
     "metadata": {},
     "output_type": "execute_result"
    }
   ],
   "source": [
    "# For the following observations (we exclude the first one)\n",
    "for i in range(1, T):\n",
    "    prev_max = -math.inf\n",
    "    prev_st = None\n",
    "    \n",
    "    for j in states:\n",
    "        p = [t1[k][i - 1] * tran_prob[k][j] * emit_prob[j][obs[i]] \n",
    "             for k in states]\n",
    "        t1[j][i] = max(p)\n",
    "        if max(p) > prev_max:\n",
    "            prev_max = max(p)\n",
    "            prev_st = states[np.argmax(p)]\n",
    "        t2[j][i] = prev_st if prev_max == max(p) else j\n",
    "print(t1)\n",
    "t2"
   ]
  },
  {
   "cell_type": "code",
   "execution_count": 164,
   "metadata": {},
   "outputs": [
    {
     "data": {
      "text/plain": [
       "(array([0., 0., 0.]), ['', '', ''])"
      ]
     },
     "execution_count": 164,
     "metadata": {},
     "output_type": "execute_result"
    }
   ],
   "source": [
    "z = np.zeros(T)\n",
    "x = [\"\"] * T # np.empty(T, dtype=str)\n",
    "z, x"
   ]
  },
  {
   "cell_type": "code",
   "execution_count": 165,
   "metadata": {},
   "outputs": [
    {
     "data": {
      "text/plain": [
       "(array([0., 0., 1.]), ['', '', 'fever'])"
      ]
     },
     "execution_count": 165,
     "metadata": {},
     "output_type": "execute_result"
    }
   ],
   "source": [
    "# The highest probabilities\n",
    "p = [t1[s][-1] for s in states]\n",
    "z[-1] = np.argmax(p)\n",
    "x[-1] = states[z[-1]]\n",
    "z, x"
   ]
  },
  {
   "cell_type": "code",
   "execution_count": 167,
   "metadata": {},
   "outputs": [
    {
     "data": {
      "text/plain": [
       "(array([0., 0., 1.]), ['healthy', 'healthy', 'fever'])"
      ]
     },
     "execution_count": 167,
     "metadata": {},
     "output_type": "execute_result"
    }
   ],
   "source": [
    "for i in range(T-1, T-3, -1):\n",
    "    n = t2[states[z[i]]][i]\n",
    "    z[i - 1] = states[states==n].index[0]\n",
    "    x[i - 1] = n\n",
    "z, x"
   ]
  },
  {
   "cell_type": "code",
   "execution_count": 1,
   "metadata": {},
   "outputs": [],
   "source": [
    "\n",
    "# def viterbi(obs, states, init_prob, tran_prob, emit_prob):\n",
    "\n",
    "# viterbi(obs, states, init_prob, tran_prob, emit_prob)"
   ]
  },
  {
   "cell_type": "code",
   "execution_count": 48,
   "metadata": {},
   "outputs": [],
   "source": [
    "# A simplified version, using just array\n",
    "states = np.array([0, 1])\n",
    "tran_prob = np.array([[0.7, 0.3], [0.4, 0.6]])\n",
    "emit_prob = np.array([[0.5, 0.4, 0.1], [0.1, 0.3, 0.6]])\n",
    "init_prob = np.array([0.6, 0.4])\n",
    "obs = np.array([0, 1, 2])"
   ]
  },
  {
   "cell_type": "code",
   "execution_count": 38,
   "metadata": {},
   "outputs": [
    {
     "data": {
      "text/plain": [
       "(array([[0., 0., 0.],\n",
       "        [0., 0., 0.]]), array([[0., 0., 0.],\n",
       "        [0., 0., 0.]]))"
      ]
     },
     "execution_count": 38,
     "metadata": {},
     "output_type": "execute_result"
    }
   ],
   "source": [
    "t1 = np.zeros((len(states), len(obs)))\n",
    "t2 = np.zeros((len(states), len(obs)))\n",
    "t1, t2"
   ]
  },
  {
   "cell_type": "code",
   "execution_count": 57,
   "metadata": {},
   "outputs": [
    {
     "name": "stdout",
     "output_type": "stream",
     "text": [
      "hello\n",
      "hello\n",
      "hello\n",
      "hello\n",
      "hello\n",
      "hello\n"
     ]
    },
    {
     "data": {
      "text/plain": [
       "array([[0.3 , 0.  , 0.  ],\n",
       "       [0.04, 0.  , 0.  ]])"
      ]
     },
     "execution_count": 57,
     "metadata": {},
     "output_type": "execute_result"
    }
   ],
   "source": [
    "for t in obs:\n",
    "    for s in states:\n",
    "        if i == 0:\n",
    "            t1[s, 0] = init_prob[s] * emit_prob[s, obs[0]]\n",
    "            t2[s, 0] = 0\n",
    "\n",
    "t1        "
   ]
  }
 ],
 "metadata": {
  "kernelspec": {
   "display_name": "Python 3",
   "language": "python",
   "name": "python3"
  },
  "language_info": {
   "codemirror_mode": {
    "name": "ipython",
    "version": 3
   },
   "file_extension": ".py",
   "mimetype": "text/x-python",
   "name": "python",
   "nbconvert_exporter": "python",
   "pygments_lexer": "ipython3",
   "version": "3.7.0"
  }
 },
 "nbformat": 4,
 "nbformat_minor": 2
}
