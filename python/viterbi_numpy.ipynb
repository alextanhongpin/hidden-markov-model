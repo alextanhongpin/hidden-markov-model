{
 "cells": [
  {
   "cell_type": "code",
   "execution_count": 89,
   "metadata": {},
   "outputs": [],
   "source": [
    "import numpy as np\n",
    "import pandas as pd"
   ]
  },
  {
   "cell_type": "code",
   "execution_count": 90,
   "metadata": {},
   "outputs": [],
   "source": [
    "# A simplified version, using just array\n",
    "states = np.array([0, 1])\n",
    "tran_p = np.array([[0.7, 0.3], [0.4, 0.6]])\n",
    "emit_p = np.array([[0.5, 0.4, 0.1], [0.1, 0.3, 0.6]])\n",
    "init_p = np.array([0.6, 0.4])\n",
    "obs = np.array([0, 1, 2])\n",
    "states_dict = {0: 'healthy', 1: 'fever'}"
   ]
  },
  {
   "cell_type": "code",
   "execution_count": 91,
   "metadata": {},
   "outputs": [],
   "source": [
    "def viterbi(states, states_dict, obs, tran_p, emit_p, init_p):\n",
    "    t1 = np.zeros((len(states), len(obs)))\n",
    "    t2 = np.zeros((len(states), len(obs)))\n",
    "    \n",
    "    for t in obs:\n",
    "        for s in states:\n",
    "            if t == 0:\n",
    "                t1[s, 0] = init_p[s] * emit_p[s, obs[0]]\n",
    "                t2[s, 0] = 0\n",
    "            else:\n",
    "                p = t1[:,t-1] * tran_p[:,s] * emit_p[s, obs[t]]\n",
    "                t1[s,t] = max(p)\n",
    "                t2[s,t] = np.argmax(p)\n",
    "    z = np.argmax(t1[:,-1])\n",
    "    x = np.array([states[z]])\n",
    "    for i in range(len(obs) - 1, len(obs) - 3, -1):\n",
    "        z = int(t2[z, i])\n",
    "        x = np.insert(x, 0, states[z])\n",
    "    return ([states_dict[i] for i in x], t1)"
   ]
  },
  {
   "cell_type": "code",
   "execution_count": 92,
   "metadata": {},
   "outputs": [
    {
     "data": {
      "text/plain": [
       "(['healthy', 'healthy', 'fever'], array([[0.3    , 0.084  , 0.00588],\n",
       "        [0.04   , 0.027  , 0.01512]]))"
      ]
     },
     "execution_count": 92,
     "metadata": {},
     "output_type": "execute_result"
    }
   ],
   "source": [
    "viterbi(states, states_dict, obs, tran_p, emit_p, init_p)"
   ]
  },
  {
   "cell_type": "code",
   "execution_count": 93,
   "metadata": {},
   "outputs": [],
   "source": [
    "# A simplified version, using just array\n",
    "states = np.array([0, 1])\n",
    "init_p = np.array([0.6, 0.4])\n",
    "tran_p = np.array([[0.7, 0.3], [0.4, 0.6]])\n",
    "emit_p = np.array([[0.1, 0.4, 0.5], [0.6, 0.3, 0.1]])\n",
    "obs = np.array([0, 1, 2]) # walk, shop, clean\n",
    "states_dict = {0: 'rainy', 1: 'sunny'}"
   ]
  },
  {
   "cell_type": "code",
   "execution_count": 94,
   "metadata": {},
   "outputs": [
    {
     "data": {
      "text/plain": [
       "(['sunny', 'rainy', 'rainy'], array([[0.06    , 0.0384  , 0.01344 ],\n",
       "        [0.24    , 0.0432  , 0.002592]]))"
      ]
     },
     "execution_count": 94,
     "metadata": {},
     "output_type": "execute_result"
    }
   ],
   "source": [
    "viterbi(states, states_dict, obs, tran_p, emit_p, init_p)"
   ]
  },
  {
   "cell_type": "markdown",
   "metadata": {},
   "source": [
    "# Resources\n",
    "\n",
    "http://idiom.ucsd.edu/~rlevy/teaching/winter2009/ligncse256/lectures/hmm_viterbi_mini_example.pdf\n",
    "\n",
    "https://web.stanford.edu/class/cs224s/lectures/224s.17.lec3.pdf\n",
    "\n",
    "https://gist.github.com/vgoklani/1287802"
   ]
  }
 ],
 "metadata": {
  "kernelspec": {
   "display_name": "Python 3",
   "language": "python",
   "name": "python3"
  },
  "language_info": {
   "codemirror_mode": {
    "name": "ipython",
    "version": 3
   },
   "file_extension": ".py",
   "mimetype": "text/x-python",
   "name": "python",
   "nbconvert_exporter": "python",
   "pygments_lexer": "ipython3",
   "version": "3.7.0"
  }
 },
 "nbformat": 4,
 "nbformat_minor": 2
}
